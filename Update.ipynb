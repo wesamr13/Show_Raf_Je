{
 "cells": [
  {
   "cell_type": "code",
   "execution_count": 1,
   "metadata": {},
   "outputs": [],
   "source": [
    "import requests\n",
    "import re\n",
    "from bs4 import BeautifulSoup\n",
    "import openpyxl\n",
    "import pandas as pd"
   ]
  },
  {
   "cell_type": "code",
   "execution_count": 2,
   "metadata": {},
   "outputs": [],
   "source": [
    "usd_jod = 0.71\n",
    "karat_21= 0.885\n",
    "karat_18= 0.790\n",
    "karat_21_buy = 0.870\n",
    "karat_18_buy = 0.740"
   ]
  },
  {
   "cell_type": "code",
   "execution_count": 3,
   "metadata": {},
   "outputs": [
    {
     "name": "stdout",
     "output_type": "stream",
     "text": [
      "Gold price =  1901.9\n",
      "Sell_price_21K = 38.42\n",
      "Sell_price_18K = 34.3\n",
      "Buy_price_21K = 37.77\n",
      "Buy_price_18K = 32.13\n"
     ]
    }
   ],
   "source": [
    "url = 'https://www.kitco.com/gold-price-today-usa/index.html'\n",
    "session = requests.Session()\n",
    "session.headers.update({'User-Agent' : 'Mozilla/5.0 (Windows NT 10.0; Win64; x64) AppleWebKit/537.36 ' + ' (KHTML, like Gecko) Chrome/62.0.3202.62 Safari/537.36'\n",
    "})\n",
    "r = session.get(url)\n",
    "html_soup = BeautifulSoup(r.text,'html.parser')\n",
    "form = html_soup.find(class_='table-price--body-table--overview-bid')\n",
    "G_price = float(form.find_all('p')[1].text.replace(',', ''))\n",
    "print ('Gold price = ', G_price)\n",
    "sell_price_21 = round(G_price*32.15*0.001*usd_jod*karat_21,2)\n",
    "sell_price_18 = round(G_price*32.15*0.001*usd_jod*karat_18,2)\n",
    "buy_price_21 = round(G_price*32.15*0.001*usd_jod*karat_21_buy,2)\n",
    "buy_price_18 = round(G_price*32.15*0.001*usd_jod*karat_18_buy,2)\n",
    "print('Sell_price_21K =', sell_price_21)\n",
    "print('Sell_price_18K =', sell_price_18)\n",
    "print('Buy_price_21K =', buy_price_21)\n",
    "print('Buy_price_18K =', buy_price_18)"
   ]
  },
  {
   "cell_type": "code",
   "execution_count": 23,
   "metadata": {},
   "outputs": [],
   "source": [
    "df = pd.read_excel(r'C:\\Users\\VAIO\\Desktop\\Rafidi Jewlery\\Book 1.xlsx')\n",
    "df = df.set_index('ID')"
   ]
  },
  {
   "cell_type": "code",
   "execution_count": 24,
   "metadata": {},
   "outputs": [],
   "source": [
    "df.loc[df['Karat'] == 885, 'N_cost'] = round((sell_price_21 + df['M_price'])*df['Weight'],2)\n",
    "df.loc[df['Karat'] == 750, 'N_cost'] = round((sell_price_18 + df['M_price'])*df['Weight'],2)"
   ]
  },
  {
   "cell_type": "code",
   "execution_count": 25,
   "metadata": {},
   "outputs": [
    {
     "data": {
      "text/html": [
       "<div>\n",
       "<style scoped>\n",
       "    .dataframe tbody tr th:only-of-type {\n",
       "        vertical-align: middle;\n",
       "    }\n",
       "\n",
       "    .dataframe tbody tr th {\n",
       "        vertical-align: top;\n",
       "    }\n",
       "\n",
       "    .dataframe thead th {\n",
       "        text-align: right;\n",
       "    }\n",
       "</style>\n",
       "<table border=\"1\" class=\"dataframe\">\n",
       "  <thead>\n",
       "    <tr style=\"text-align: right;\">\n",
       "      <th></th>\n",
       "      <th>Name</th>\n",
       "      <th>Weight</th>\n",
       "      <th>Karat</th>\n",
       "      <th>M_price</th>\n",
       "      <th>N_cost</th>\n",
       "    </tr>\n",
       "    <tr>\n",
       "      <th>ID</th>\n",
       "      <th></th>\n",
       "      <th></th>\n",
       "      <th></th>\n",
       "      <th></th>\n",
       "      <th></th>\n",
       "    </tr>\n",
       "  </thead>\n",
       "  <tbody>\n",
       "    <tr>\n",
       "      <th>334982</th>\n",
       "      <td>سنسال</td>\n",
       "      <td>1.9</td>\n",
       "      <td>750</td>\n",
       "      <td>3.0</td>\n",
       "      <td>70.13</td>\n",
       "    </tr>\n",
       "    <tr>\n",
       "      <th>454567</th>\n",
       "      <td>خاتم</td>\n",
       "      <td>12.0</td>\n",
       "      <td>885</td>\n",
       "      <td>2.5</td>\n",
       "      <td>485.88</td>\n",
       "    </tr>\n",
       "    <tr>\n",
       "      <th>530498</th>\n",
       "      <td>دبله</td>\n",
       "      <td>4.7</td>\n",
       "      <td>750</td>\n",
       "      <td>4.0</td>\n",
       "      <td>178.18</td>\n",
       "    </tr>\n",
       "    <tr>\n",
       "      <th>530499</th>\n",
       "      <td>حلق</td>\n",
       "      <td>3.3</td>\n",
       "      <td>885</td>\n",
       "      <td>0.0</td>\n",
       "      <td>125.37</td>\n",
       "    </tr>\n",
       "    <tr>\n",
       "      <th>530500</th>\n",
       "      <td>حلق</td>\n",
       "      <td>6.0</td>\n",
       "      <td>750</td>\n",
       "      <td>3.0</td>\n",
       "      <td>221.46</td>\n",
       "    </tr>\n",
       "    <tr>\n",
       "      <th>545735</th>\n",
       "      <td>اسوارة</td>\n",
       "      <td>4.2</td>\n",
       "      <td>750</td>\n",
       "      <td>4.0</td>\n",
       "      <td>159.22</td>\n",
       "    </tr>\n",
       "    <tr>\n",
       "      <th>546784</th>\n",
       "      <td>خاتم</td>\n",
       "      <td>24.5</td>\n",
       "      <td>750</td>\n",
       "      <td>2.0</td>\n",
       "      <td>879.80</td>\n",
       "    </tr>\n",
       "    <tr>\n",
       "      <th>557264</th>\n",
       "      <td>خاتم</td>\n",
       "      <td>1.3</td>\n",
       "      <td>885</td>\n",
       "      <td>2.5</td>\n",
       "      <td>52.64</td>\n",
       "    </tr>\n",
       "    <tr>\n",
       "      <th>564357</th>\n",
       "      <td>دبله</td>\n",
       "      <td>12.4</td>\n",
       "      <td>750</td>\n",
       "      <td>3.0</td>\n",
       "      <td>457.68</td>\n",
       "    </tr>\n",
       "    <tr>\n",
       "      <th>565456</th>\n",
       "      <td>سنسال</td>\n",
       "      <td>2.3</td>\n",
       "      <td>885</td>\n",
       "      <td>2.5</td>\n",
       "      <td>93.13</td>\n",
       "    </tr>\n",
       "    <tr>\n",
       "      <th>567865</th>\n",
       "      <td>حلق</td>\n",
       "      <td>3.0</td>\n",
       "      <td>750</td>\n",
       "      <td>3.5</td>\n",
       "      <td>112.23</td>\n",
       "    </tr>\n",
       "    <tr>\n",
       "      <th>654676</th>\n",
       "      <td>حلق</td>\n",
       "      <td>2.3</td>\n",
       "      <td>885</td>\n",
       "      <td>3.0</td>\n",
       "      <td>94.28</td>\n",
       "    </tr>\n",
       "    <tr>\n",
       "      <th>757864</th>\n",
       "      <td>حلق</td>\n",
       "      <td>3.5</td>\n",
       "      <td>885</td>\n",
       "      <td>2.5</td>\n",
       "      <td>141.72</td>\n",
       "    </tr>\n",
       "  </tbody>\n",
       "</table>\n",
       "</div>"
      ],
      "text/plain": [
       "           Name  Weight  Karat  M_price  N_cost\n",
       "ID                                             \n",
       "334982    سنسال     1.9    750      3.0   70.13\n",
       "454567    خاتم     12.0    885      2.5  485.88\n",
       "530498    دبله      4.7    750      4.0  178.18\n",
       "530499      حلق     3.3    885      0.0  125.37\n",
       "530500      حلق     6.0    750      3.0  221.46\n",
       "545735  اسوارة      4.2    750      4.0  159.22\n",
       "546784    خاتم     24.5    750      2.0  879.80\n",
       "557264    خاتم      1.3    885      2.5   52.64\n",
       "564357    دبله     12.4    750      3.0  457.68\n",
       "565456    سنسال     2.3    885      2.5   93.13\n",
       "567865      حلق     3.0    750      3.5  112.23\n",
       "654676      حلق     2.3    885      3.0   94.28\n",
       "757864      حلق     3.5    885      2.5  141.72"
      ]
     },
     "execution_count": 25,
     "metadata": {},
     "output_type": "execute_result"
    }
   ],
   "source": [
    "df"
   ]
  },
  {
   "cell_type": "code",
   "execution_count": 26,
   "metadata": {},
   "outputs": [],
   "source": [
    "df.to_excel(r'C:\\Users\\VAIO\\Desktop\\Rafidi Jewlery\\Book 1.xlsx')"
   ]
  },
  {
   "cell_type": "code",
   "execution_count": null,
   "metadata": {},
   "outputs": [],
   "source": []
  },
  {
   "cell_type": "code",
   "execution_count": null,
   "metadata": {},
   "outputs": [],
   "source": []
  }
 ],
 "metadata": {
  "kernelspec": {
   "display_name": "Python 3",
   "language": "python",
   "name": "python3"
  },
  "language_info": {
   "codemirror_mode": {
    "name": "ipython",
    "version": 3
   },
   "file_extension": ".py",
   "mimetype": "text/x-python",
   "name": "python",
   "nbconvert_exporter": "python",
   "pygments_lexer": "ipython3",
   "version": "3.8.5"
  }
 },
 "nbformat": 4,
 "nbformat_minor": 4
}
