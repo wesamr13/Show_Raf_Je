{
 "cells": [
  {
   "cell_type": "code",
   "execution_count": 9,
   "metadata": {},
   "outputs": [],
   "source": [
    "import pandas as pd\n",
    "df = pd.read_excel(r'C:\\Users\\VAIO\\Desktop\\Rafidi Jewlery\\Book 1.xlsx')\n",
    "df2 = pd.read_excel(r'C:\\Users\\VAIO\\Desktop\\Rafidi Jewlery\\buy 1.xlsx')"
   ]
  },
  {
   "cell_type": "code",
   "execution_count": 10,
   "metadata": {},
   "outputs": [
    {
     "data": {
      "text/html": [
       "<div>\n",
       "<style scoped>\n",
       "    .dataframe tbody tr th:only-of-type {\n",
       "        vertical-align: middle;\n",
       "    }\n",
       "\n",
       "    .dataframe tbody tr th {\n",
       "        vertical-align: top;\n",
       "    }\n",
       "\n",
       "    .dataframe thead th {\n",
       "        text-align: right;\n",
       "    }\n",
       "</style>\n",
       "<table border=\"1\" class=\"dataframe\">\n",
       "  <thead>\n",
       "    <tr style=\"text-align: right;\">\n",
       "      <th></th>\n",
       "      <th>ID</th>\n",
       "      <th>Name</th>\n",
       "      <th>Weight</th>\n",
       "      <th>Karat</th>\n",
       "      <th>M_price</th>\n",
       "      <th>N_cost</th>\n",
       "    </tr>\n",
       "  </thead>\n",
       "  <tbody>\n",
       "    <tr>\n",
       "      <th>9</th>\n",
       "      <td>565456</td>\n",
       "      <td>سنسال</td>\n",
       "      <td>2.3</td>\n",
       "      <td>885</td>\n",
       "      <td>2.5</td>\n",
       "      <td>93.13</td>\n",
       "    </tr>\n",
       "  </tbody>\n",
       "</table>\n",
       "</div>"
      ],
      "text/plain": [
       "       ID   Name  Weight  Karat  M_price  N_cost\n",
       "9  565456  سنسال     2.3    885      2.5   93.13"
      ]
     },
     "execution_count": 10,
     "metadata": {},
     "output_type": "execute_result"
    }
   ],
   "source": [
    "pr = 120 \n",
    "x = 565456\n",
    "n = df.loc[df[\"ID\"] == x]\n",
    "n"
   ]
  },
  {
   "cell_type": "code",
   "execution_count": 11,
   "metadata": {},
   "outputs": [
    {
     "name": "stderr",
     "output_type": "stream",
     "text": [
      "<ipython-input-11-955a729042c4>:1: SettingWithCopyWarning: \n",
      "A value is trying to be set on a copy of a slice from a DataFrame.\n",
      "Try using .loc[row_indexer,col_indexer] = value instead\n",
      "\n",
      "See the caveats in the documentation: https://pandas.pydata.org/pandas-docs/stable/user_guide/indexing.html#returning-a-view-versus-a-copy\n",
      "  n[\"S_price\"] = pr\n",
      "<ipython-input-11-955a729042c4>:2: SettingWithCopyWarning: \n",
      "A value is trying to be set on a copy of a slice from a DataFrame.\n",
      "Try using .loc[row_indexer,col_indexer] = value instead\n",
      "\n",
      "See the caveats in the documentation: https://pandas.pydata.org/pandas-docs/stable/user_guide/indexing.html#returning-a-view-versus-a-copy\n",
      "  n[\"Profit\"] = n[\"S_price\"] - n[\"N_cost\"]\n"
     ]
    },
    {
     "data": {
      "text/html": [
       "<div>\n",
       "<style scoped>\n",
       "    .dataframe tbody tr th:only-of-type {\n",
       "        vertical-align: middle;\n",
       "    }\n",
       "\n",
       "    .dataframe tbody tr th {\n",
       "        vertical-align: top;\n",
       "    }\n",
       "\n",
       "    .dataframe thead th {\n",
       "        text-align: right;\n",
       "    }\n",
       "</style>\n",
       "<table border=\"1\" class=\"dataframe\">\n",
       "  <thead>\n",
       "    <tr style=\"text-align: right;\">\n",
       "      <th></th>\n",
       "      <th>ID</th>\n",
       "      <th>Name</th>\n",
       "      <th>Weight</th>\n",
       "      <th>Karat</th>\n",
       "      <th>M_price</th>\n",
       "      <th>N_cost</th>\n",
       "      <th>S_price</th>\n",
       "      <th>Profit</th>\n",
       "    </tr>\n",
       "  </thead>\n",
       "  <tbody>\n",
       "    <tr>\n",
       "      <th>9</th>\n",
       "      <td>565456</td>\n",
       "      <td>سنسال</td>\n",
       "      <td>2.3</td>\n",
       "      <td>885</td>\n",
       "      <td>2.5</td>\n",
       "      <td>93.13</td>\n",
       "      <td>120</td>\n",
       "      <td>26.87</td>\n",
       "    </tr>\n",
       "  </tbody>\n",
       "</table>\n",
       "</div>"
      ],
      "text/plain": [
       "       ID   Name  Weight  Karat  M_price  N_cost  S_price  Profit\n",
       "9  565456  سنسال     2.3    885      2.5   93.13      120   26.87"
      ]
     },
     "execution_count": 11,
     "metadata": {},
     "output_type": "execute_result"
    }
   ],
   "source": [
    "n[\"S_price\"] = pr\n",
    "n[\"Profit\"] = n[\"S_price\"] - n[\"N_cost\"] \n",
    "n"
   ]
  },
  {
   "cell_type": "code",
   "execution_count": 12,
   "metadata": {},
   "outputs": [],
   "source": [
    "df2 = df2.append(n, ignore_index= True)\n",
    "df2 = df2.drop_duplicates(subset = [\"ID\"],keep='last').sort_values(\"ID\")"
   ]
  },
  {
   "cell_type": "code",
   "execution_count": 13,
   "metadata": {},
   "outputs": [
    {
     "data": {
      "text/html": [
       "<div>\n",
       "<style scoped>\n",
       "    .dataframe tbody tr th:only-of-type {\n",
       "        vertical-align: middle;\n",
       "    }\n",
       "\n",
       "    .dataframe tbody tr th {\n",
       "        vertical-align: top;\n",
       "    }\n",
       "\n",
       "    .dataframe thead th {\n",
       "        text-align: right;\n",
       "    }\n",
       "</style>\n",
       "<table border=\"1\" class=\"dataframe\">\n",
       "  <thead>\n",
       "    <tr style=\"text-align: right;\">\n",
       "      <th></th>\n",
       "      <th>ID</th>\n",
       "      <th>Name</th>\n",
       "      <th>Weight</th>\n",
       "      <th>Karat</th>\n",
       "      <th>M_price</th>\n",
       "      <th>N_cost</th>\n",
       "      <th>S_price</th>\n",
       "      <th>Profit</th>\n",
       "    </tr>\n",
       "  </thead>\n",
       "  <tbody>\n",
       "    <tr>\n",
       "      <th>0</th>\n",
       "      <td>334982</td>\n",
       "      <td>سنسال</td>\n",
       "      <td>1.9</td>\n",
       "      <td>750</td>\n",
       "      <td>3.0</td>\n",
       "      <td>66.42</td>\n",
       "      <td>75</td>\n",
       "      <td>8.58</td>\n",
       "    </tr>\n",
       "    <tr>\n",
       "      <th>1</th>\n",
       "      <td>454567</td>\n",
       "      <td>خاتم</td>\n",
       "      <td>12.0</td>\n",
       "      <td>885</td>\n",
       "      <td>2.5</td>\n",
       "      <td>482.52</td>\n",
       "      <td>500</td>\n",
       "      <td>17.48</td>\n",
       "    </tr>\n",
       "    <tr>\n",
       "      <th>2</th>\n",
       "      <td>565456</td>\n",
       "      <td>سنسال</td>\n",
       "      <td>2.3</td>\n",
       "      <td>885</td>\n",
       "      <td>2.5</td>\n",
       "      <td>93.13</td>\n",
       "      <td>120</td>\n",
       "      <td>26.87</td>\n",
       "    </tr>\n",
       "  </tbody>\n",
       "</table>\n",
       "</div>"
      ],
      "text/plain": [
       "       ID   Name  Weight  Karat  M_price  N_cost  S_price  Profit\n",
       "0  334982  سنسال     1.9    750      3.0   66.42       75    8.58\n",
       "1  454567  خاتم     12.0    885      2.5  482.52      500   17.48\n",
       "2  565456  سنسال     2.3    885      2.5   93.13      120   26.87"
      ]
     },
     "execution_count": 13,
     "metadata": {},
     "output_type": "execute_result"
    }
   ],
   "source": [
    "df2"
   ]
  },
  {
   "cell_type": "code",
   "execution_count": 14,
   "metadata": {},
   "outputs": [],
   "source": [
    "df2 = df2.set_index(\"ID\")\n",
    "try:\n",
    "    df2.to_excel(r\"C:\\Users\\VAIO\\Desktop\\Rafidi Jewlery\\buy 1.xlsx\")\n",
    "except:\n",
    "    print(\"Close the File, and try again\")\n"
   ]
  },
  {
   "cell_type": "code",
   "execution_count": null,
   "metadata": {},
   "outputs": [],
   "source": []
  },
  {
   "cell_type": "code",
   "execution_count": null,
   "metadata": {},
   "outputs": [],
   "source": []
  }
 ],
 "metadata": {
  "kernelspec": {
   "display_name": "Python 3",
   "language": "python",
   "name": "python3"
  },
  "language_info": {
   "codemirror_mode": {
    "name": "ipython",
    "version": 3
   },
   "file_extension": ".py",
   "mimetype": "text/x-python",
   "name": "python",
   "nbconvert_exporter": "python",
   "pygments_lexer": "ipython3",
   "version": "3.8.5"
  }
 },
 "nbformat": 4,
 "nbformat_minor": 4
}
