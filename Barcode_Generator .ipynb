{
 "cells": [
  {
   "cell_type": "code",
   "execution_count": 116,
   "metadata": {},
   "outputs": [],
   "source": [
    "from barcode import EAN8\n",
    "from numpy import random\n",
    "import numpy as np\n",
    "from barcode.writer import ImageWriter\n",
    "arr = []\n",
    "num = 7323878\n",
    "c = []\n",
    "x = 'barcode'\n",
    "n = 0\n",
    "\n",
    "for i in range(100):\n",
    "    num = num + 1\n",
    "    arr.append(num)\n",
    "    c.append(x + str(i))\n",
    "    \n"
   ]
  },
  {
   "cell_type": "code",
   "execution_count": 117,
   "metadata": {},
   "outputs": [],
   "source": [
    "for j in range(10):\n",
    "    \n",
    "    number = str(arr[j])\n",
    "    my_code = EAN8(number, writer=ImageWriter())\n",
    "    my_code.save(c[j])"
   ]
  },
  {
   "cell_type": "code",
   "execution_count": 114,
   "metadata": {},
   "outputs": [
    {
     "name": "stdout",
     "output_type": "stream",
     "text": [
      "['barcode0', 'barcode1', 'barcode2', 'barcode3', 'barcode4', 'barcode5', 'barcode6', 'barcode7', 'barcode8', 'barcode9', 'barcode10', 'barcode11', 'barcode12', 'barcode13', 'barcode14', 'barcode15', 'barcode16', 'barcode17', 'barcode18', 'barcode19', 'barcode20', 'barcode21', 'barcode22', 'barcode23', 'barcode24', 'barcode25', 'barcode26', 'barcode27', 'barcode28', 'barcode29', 'barcode30', 'barcode31', 'barcode32', 'barcode33', 'barcode34', 'barcode35', 'barcode36', 'barcode37', 'barcode38', 'barcode39', 'barcode40', 'barcode41', 'barcode42', 'barcode43', 'barcode44', 'barcode45', 'barcode46', 'barcode47', 'barcode48', 'barcode49', 'barcode50', 'barcode51', 'barcode52', 'barcode53', 'barcode54', 'barcode55', 'barcode56', 'barcode57', 'barcode58', 'barcode59', 'barcode60', 'barcode61', 'barcode62', 'barcode63', 'barcode64', 'barcode65', 'barcode66', 'barcode67', 'barcode68', 'barcode69', 'barcode70', 'barcode71', 'barcode72', 'barcode73', 'barcode74', 'barcode75', 'barcode76', 'barcode77', 'barcode78', 'barcode79', 'barcode80', 'barcode81', 'barcode82', 'barcode83', 'barcode84', 'barcode85', 'barcode86', 'barcode87', 'barcode88', 'barcode89', 'barcode90', 'barcode91', 'barcode92', 'barcode93', 'barcode94', 'barcode95', 'barcode96', 'barcode97', 'barcode98', 'barcode99']\n",
      "[7323879, 7323880, 7323881, 7323882, 7323883, 7323884, 7323885, 7323886, 7323887, 7323888, 7323889, 7323890, 7323891, 7323892, 7323893, 7323894, 7323895, 7323896, 7323897, 7323898, 7323899, 7323900, 7323901, 7323902, 7323903, 7323904, 7323905, 7323906, 7323907, 7323908, 7323909, 7323910, 7323911, 7323912, 7323913, 7323914, 7323915, 7323916, 7323917, 7323918, 7323919, 7323920, 7323921, 7323922, 7323923, 7323924, 7323925, 7323926, 7323927, 7323928, 7323929, 7323930, 7323931, 7323932, 7323933, 7323934, 7323935, 7323936, 7323937, 7323938, 7323939, 7323940, 7323941, 7323942, 7323943, 7323944, 7323945, 7323946, 7323947, 7323948, 7323949, 7323950, 7323951, 7323952, 7323953, 7323954, 7323955, 7323956, 7323957, 7323958, 7323959, 7323960, 7323961, 7323962, 7323963, 7323964, 7323965, 7323966, 7323967, 7323968, 7323969, 7323970, 7323971, 7323972, 7323973, 7323974, 7323975, 7323976, 7323977, 7323978]\n"
     ]
    }
   ],
   "source": [
    "print(c)\n",
    "print(arr)"
   ]
  },
  {
   "cell_type": "code",
   "execution_count": 94,
   "metadata": {},
   "outputs": [
    {
     "data": {
      "text/plain": [
       "'0'"
      ]
     },
     "execution_count": 94,
     "metadata": {},
     "output_type": "execute_result"
    }
   ],
   "source": [
    "\n"
   ]
  },
  {
   "cell_type": "code",
   "execution_count": null,
   "metadata": {},
   "outputs": [],
   "source": []
  }
 ],
 "metadata": {
  "kernelspec": {
   "display_name": "Python 3",
   "language": "python",
   "name": "python3"
  },
  "language_info": {
   "codemirror_mode": {
    "name": "ipython",
    "version": 3
   },
   "file_extension": ".py",
   "mimetype": "text/x-python",
   "name": "python",
   "nbconvert_exporter": "python",
   "pygments_lexer": "ipython3",
   "version": "3.8.5"
  }
 },
 "nbformat": 4,
 "nbformat_minor": 4
}
